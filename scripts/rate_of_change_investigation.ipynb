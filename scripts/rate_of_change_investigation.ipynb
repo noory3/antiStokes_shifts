{
 "cells": [
  {
   "cell_type": "code",
   "execution_count": 1,
   "metadata": {},
   "outputs": [],
   "source": [
    "import pandas as pd \n",
    "import seaborn as sns \n",
    "import matplotlib.pyplot as plt\n",
    "import numpy as np \n",
    "from scipy import stats\n",
    "plt.style.use('seaborn-talk')"
   ]
  },
  {
   "cell_type": "code",
   "execution_count": 2,
   "metadata": {},
   "outputs": [],
   "source": [
    "# conc metrics data\n",
    "qhw_rst = pd.read_csv(\"../data/conc_data_1qhw_Ne2_nsubs_5e2_0_500.csv\")\n",
    "pek_rst = pd.read_csv(\"../data/conc_data_1pek_Ne2_nsubs_5e2_0_500.csv\")\n",
    "ppn_rst = pd.read_csv(\"../data/conc_data_2ppn_Ne2_nsubs_5e2_0_500.csv\")\n"
   ]
  },
  {
   "cell_type": "code",
   "execution_count": 3,
   "metadata": {},
   "outputs": [],
   "source": [
    "# label sites as buried or exposed based on RSA\n",
    "qhw_rst[\"loc\"] = np.where(qhw_rst['RSA']<=0.05, 'buried', 'exposed')\n",
    "ppn_rst[\"loc\"] = np.where(ppn_rst['RSA']<=0.05, 'buried', 'exposed')\n",
    "pek_rst[\"loc\"] = np.where(pek_rst['RSA']<=0.05, 'buried', 'exposed')"
   ]
  },
  {
   "cell_type": "code",
   "execution_count": 4,
   "metadata": {},
   "outputs": [
    {
     "name": "stdout",
     "output_type": "stream",
     "text": [
      "rate of change (M_SLR): 1qhw\n",
      "Ttest_indResult(statistic=-0.6016777897046608, pvalue=0.5473927717031459)\n",
      "-1.6908646447683587e-06\n",
      "speed change (M_SLR): 1pek\n",
      "Ttest_indResult(statistic=0.5526117446287062, pvalue=0.5805314428983697)\n",
      "1.2840749550262987e-06\n",
      "speed change (M_SLR): 2ppn\n",
      "Ttest_indResult(statistic=-0.5445794040207762, pvalue=0.5860449143843423)\n",
      "-1.8260999929603255e-06\n"
     ]
    }
   ],
   "source": [
    "from scipy.stats import ttest_ind\n",
    "\n",
    "qhw_stokes     = qhw_rst[qhw_rst[\"M_SLR\"] > 0]\n",
    "qhw_antistokes = qhw_rst[qhw_rst[\"M_SLR\"] < 0]\n",
    "\n",
    "pek_stokes     = pek_rst[pek_rst[\"M_SLR\"] > 0]\n",
    "pek_antistokes = pek_rst[pek_rst[\"M_SLR\"] < 0]\n",
    "\n",
    "ppn_stokes     = ppn_rst[ppn_rst[\"M_SLR\"] > 0]\n",
    "ppn_antistokes = ppn_rst[ppn_rst[\"M_SLR\"] < 0]\n",
    "\n",
    "print('rate of change (M_SLR): 1qhw')\n",
    "print(ttest_ind(qhw_stokes[\"rate of change (M_SLR)\"], qhw_antistokes[\"rate of change (M_SLR)\"], nan_policy = 'omit', equal_var = False))\n",
    "print(np.mean(qhw_stokes[\"rate of change (M_SLR)\"]) - np.mean(qhw_antistokes[\"rate of change (M_SLR)\"]))\n",
    "\n",
    "print('speed change (M_SLR): 1pek')\n",
    "print(ttest_ind(pek_stokes[\"rate of change (M_SLR)\"], pek_antistokes[\"rate of change (M_SLR)\"], nan_policy = 'omit', equal_var = False))\n",
    "print(np.mean(pek_stokes[\"rate of change (M_SLR)\"]) - np.mean(pek_antistokes[\"rate of change (M_SLR)\"]))\n",
    "\n",
    "print('speed change (M_SLR): 2ppn')\n",
    "print(ttest_ind(ppn_stokes[\"rate of change (M_SLR)\"], ppn_antistokes[\"rate of change (M_SLR)\"], nan_policy = 'omit', equal_var = False))\n",
    "print(np.mean(ppn_stokes[\"rate of change (M_SLR)\"]) - np.mean(ppn_antistokes[\"rate of change (M_SLR)\"]))"
   ]
  },
  {
   "cell_type": "code",
   "execution_count": 5,
   "metadata": {},
   "outputs": [
    {
     "name": "stdout",
     "output_type": "stream",
     "text": [
      "rate of change (M_AMI):1qhw\n",
      "Ttest_indResult(statistic=-0.4895866562526024, pvalue=0.6244294567905684)\n",
      "-1.251016580662879e-06\n",
      "rate of change (M_AMI): 1pek\n",
      "Ttest_indResult(statistic=1.019800572049715, pvalue=0.3078280449832202)\n",
      "2.3449498815459307e-06\n",
      "rate of change (M_AMI): 2ppn\n",
      "Ttest_indResult(statistic=-0.818814718583403, pvalue=0.4128957354018954)\n",
      "-2.2370636818406383e-06\n"
     ]
    }
   ],
   "source": [
    "from scipy.stats import ttest_ind\n",
    "\n",
    "qhw_stokes     = qhw_rst[qhw_rst[\"M_AMI\"] > 0]\n",
    "qhw_antistokes = qhw_rst[qhw_rst[\"M_AMI\"] < 0]\n",
    "\n",
    "pek_stokes     = pek_rst[pek_rst[\"M_AMI\"] > 0]\n",
    "pek_antistokes = pek_rst[pek_rst[\"M_AMI\"] < 0]\n",
    "\n",
    "ppn_stokes     = ppn_rst[ppn_rst[\"M_AMI\"] > 0]\n",
    "ppn_antistokes = ppn_rst[ppn_rst[\"M_AMI\"] < 0]\n",
    "\n",
    "print('rate of change (M_AMI):1qhw')\n",
    "print(ttest_ind(qhw_stokes[\"rate of change (M_AMI)\"], qhw_antistokes[\"rate of change (M_AMI)\"], nan_policy = 'omit', equal_var = False))\n",
    "print(np.mean(qhw_stokes[\"rate of change (M_AMI)\"]) - np.mean(qhw_antistokes[\"rate of change (M_AMI)\"]))\n",
    "\n",
    "print('rate of change (M_AMI): 1pek')\n",
    "print(ttest_ind(pek_stokes[\"rate of change (M_AMI)\"], pek_antistokes[\"rate of change (M_AMI)\"], nan_policy = 'omit', equal_var = False))\n",
    "print(np.mean(pek_stokes[\"rate of change (M_AMI)\"]) - np.mean(pek_antistokes[\"rate of change (M_AMI)\"]))\n",
    "\n",
    "print('rate of change (M_AMI): 2ppn')\n",
    "print(ttest_ind(ppn_stokes[\"rate of change (M_AMI)\"], ppn_antistokes[\"rate of change (M_AMI)\"], nan_policy = 'omit', equal_var = False))\n",
    "print(np.mean(ppn_stokes[\"rate of change (M_AMI)\"]) - np.mean(ppn_antistokes[\"rate of change (M_AMI)\"]))"
   ]
  },
  {
   "cell_type": "code",
   "execution_count": 6,
   "metadata": {},
   "outputs": [
    {
     "data": {
      "text/plain": [
       "Text(0.5, 1.0, '1pek')"
      ]
     },
     "execution_count": 6,
     "metadata": {},
     "output_type": "execute_result"
    },
    {
     "data": {
      "image/png": "[encoded data removed]",
      "text/plain": [
       "<Figure size 720x504 with 6 Axes>"
      ]
     },
     "metadata": {
      "needs_background": "light"
     },
     "output_type": "display_data"
    }
   ],
   "source": [
    "f, (ax1, ax2) = plt.subplots(2, 3, sharex = True, sharey = 'row', figsize = (10, 7))\n",
    "\n",
    "#slope\n",
    "g = sns.boxplot(x=\"loc\", y=\"rate of change (M_SLR)\", data=qhw_rst, ax = ax1[0], order=[\"exposed\", \"buried\"], fliersize = 1)\n",
    "g = sns.boxplot(x=\"loc\", y=\"rate of change (M_SLR)\", data=ppn_rst, ax = ax1[1], order=[\"exposed\", \"buried\"], fliersize = 1)\n",
    "g = sns.boxplot(x=\"loc\", y=\"rate of change (M_SLR)\", data=pek_rst, ax = ax1[2], order=[\"exposed\", \"buried\"], fliersize = 1)\n",
    "\n",
    "#slope\n",
    "g = sns.boxplot(x=\"loc\", y=\"rate of change (M_AMI)\", data=qhw_rst, ax = ax2[0], order=[\"exposed\", \"buried\"], fliersize = 1)\n",
    "g = sns.boxplot(x=\"loc\", y=\"rate of change (M_AMI)\", data=ppn_rst, ax = ax2[1], order=[\"exposed\", \"buried\"], fliersize = 1)\n",
    "g = sns.boxplot(x=\"loc\", y=\"rate of change (M_AMI)\", data=pek_rst, ax = ax2[2], order=[\"exposed\", \"buried\"], fliersize = 1)\n",
    "\n",
    "plt.xticks([0,1], ['exposed \\n (RSA > 0.05)','buried \\n (RSA $\\leq$ 0.05)'])\n",
    "\n",
    "for a in [ax1,ax2]:\n",
    "    for i in range(3):\n",
    "        a[i].set_xlabel(\"\")\n",
    "        a[i].set_ylabel(\"\")\n",
    "        \n",
    "# y labels\n",
    "ax1[0].set_ylabel(r\"$\\frac{|M2_{SLM}| - |M1_{SLM}|}{T_{res}}$\", fontsize = 20)\n",
    "ax2[0].set_ylabel(r\"$\\frac{|M2_{AMI}| - |M1_{AMI}|}{T_{res}}$\", fontsize = 20)\n",
    "\n",
    "# set title\n",
    "ax1[0].set_title(\"1qhw\")\n",
    "ax1[1].set_title(\"2ppn\")\n",
    "ax1[2].set_title(\"1pek\")\n",
    "\n"
   ]
  },
  {
   "cell_type": "code",
   "execution_count": 7,
   "metadata": {},
   "outputs": [
    {
     "name": "stdout",
     "output_type": "stream",
     "text": [
      "rate of change (M_SLR):: 1qhw\n",
      "Ttest_indResult(statistic=0.8639106722214575, pvalue=0.3876517092564098)\n",
      "3.078736633125493e-06\n",
      "rate of change (M_SLR): 1pek\n",
      "Ttest_indResult(statistic=0.35735573592201897, pvalue=0.720828463381809)\n",
      "1.0242262861429014e-06\n",
      "rate of change (M_SLR): 2ppn\n",
      "Ttest_indResult(statistic=-0.9280612189413643, pvalue=0.35339837319346656)\n",
      "-4.9060915682982575e-06\n",
      "\n",
      "\n",
      " rate of change (M_AMI): 1qhw\n",
      "Ttest_indResult(statistic=-0.037013396396902175, pvalue=0.9704748518649977)\n",
      "-1.2189468802479377e-07\n",
      "rate of change (M_AMI): 1pek\n",
      "Ttest_indResult(statistic=1.3722439092647674, pvalue=0.16999987902615632)\n",
      "3.855473363284601e-06\n",
      "rate of change (M_AMI): 2ppn\n",
      "Ttest_indResult(statistic=-0.5515737966564683, pvalue=0.581252738292376)\n",
      "-2.344163390420303e-06\n"
     ]
    }
   ],
   "source": [
    "qhw_exposed = qhw_rst[qhw_rst[\"loc\"] == \"exposed\"]\n",
    "qhw_buried  = qhw_rst[qhw_rst[\"loc\"] == \"buried\"]\n",
    "\n",
    "pek_exposed = pek_rst[pek_rst[\"loc\"] == \"exposed\"]\n",
    "pek_buried  = pek_rst[pek_rst[\"loc\"] == \"buried\"]\n",
    "\n",
    "ppn_exposed = ppn_rst[ppn_rst[\"loc\"] == \"exposed\"]\n",
    "ppn_buried  = ppn_rst[ppn_rst[\"loc\"] == \"buried\"]\n",
    "\n",
    "print('rate of change (M_SLR):: 1qhw')\n",
    "print(ttest_ind(qhw_exposed[\"rate of change (M_SLR)\"], qhw_buried[\"rate of change (M_SLR)\"], nan_policy = 'omit', equal_var = False))\n",
    "print(np.mean(qhw_exposed[\"rate of change (M_SLR)\"]) - np.mean(qhw_buried[\"rate of change (M_SLR)\"]))\n",
    "\n",
    "print('rate of change (M_SLR): 1pek')\n",
    "print(ttest_ind(pek_exposed[\"rate of change (M_SLR)\"], pek_buried[\"rate of change (M_SLR)\"], nan_policy = 'omit', equal_var = False))\n",
    "print(np.mean(pek_exposed[\"rate of change (M_SLR)\"]) - np.mean(pek_buried[\"rate of change (M_SLR)\"]))\n",
    "\n",
    "print('rate of change (M_SLR): 2ppn')\n",
    "print(ttest_ind(ppn_exposed[\"rate of change (M_SLR)\"], ppn_buried[\"rate of change (M_SLR)\"], nan_policy = 'omit', equal_var = False))\n",
    "print(np.mean(ppn_exposed[\"rate of change (M_SLR)\"]) - np.mean(ppn_buried[\"rate of change (M_SLR)\"]))\n",
    "\n",
    "\n",
    "print('\\n\\n rate of change (M_AMI): 1qhw')\n",
    "print(ttest_ind(qhw_exposed[\"rate of change (M_AMI)\"], qhw_buried[\"rate of change (M_AMI)\"], nan_policy = 'omit', equal_var = False))\n",
    "print(np.mean(qhw_exposed[\"rate of change (M_AMI)\"]) - np.mean(qhw_buried[\"rate of change (M_AMI)\"]))\n",
    "\n",
    "print('rate of change (M_AMI): 1pek')\n",
    "print(ttest_ind(pek_exposed[\"rate of change (M_AMI)\"], pek_buried[\"rate of change (M_AMI)\"], nan_policy = 'omit', equal_var = False))\n",
    "print(np.mean(pek_exposed[\"rate of change (M_AMI)\"]) - np.mean(pek_buried[\"rate of change (M_AMI)\"]))\n",
    "\n",
    "print('rate of change (M_AMI): 2ppn')\n",
    "print(ttest_ind(ppn_exposed[\"rate of change (M_AMI)\"], ppn_buried[\"rate of change (M_AMI)\"], nan_policy = 'omit', equal_var = False))\n",
    "print(np.mean(ppn_exposed[\"rate of change (M_AMI)\"]) - np.mean(ppn_buried[\"rate of change (M_AMI)\"]))"
   ]
  },
  {
   "cell_type": "code",
   "execution_count": null,
   "metadata": {},
   "outputs": [],
   "source": []
  }
 ],
 "metadata": {
  "kernelspec": {
   "display_name": "Python 3",
   "language": "python",
   "name": "python3"
  },
  "language_info": {
   "codemirror_mode": {
    "name": "ipython",
    "version": 3
   },
   "file_extension": ".py",
   "mimetype": "text/x-python",
   "name": "python",
   "nbconvert_exporter": "python",
   "pygments_lexer": "ipython3",
   "version": "3.7.4"
  }
 },
 "nbformat": 4,
 "nbformat_minor": 4
}
