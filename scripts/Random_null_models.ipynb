{
 "cells": [
  {
   "cell_type": "code",
   "execution_count": 1,
   "metadata": {},
   "outputs": [],
   "source": [
    "#!/usr/bin/env python3\n",
    "# -*- coding: utf-8 -*-\n",
    "\"\"\"\n",
    "Created on Tue Jan 26 2021\n",
    "@author: nooryoussef\n",
    "\"\"\"\n",
    "import numpy as np\n",
    "import pandas as pd\n",
    "import pickle\n",
    "import misc_functions as mf\n",
    "import stability_functions as sf\n",
    "import seaborn as sns\n",
    "import matplotlib.pyplot as plt\n",
    "from sklearn import linear_model"
   ]
  },
  {
   "cell_type": "code",
   "execution_count": 2,
   "metadata": {},
   "outputs": [],
   "source": [
    "# get empirical distributions \n",
    "main_dir = \"../output/\"\n",
    "protein  = '1qhw'\n",
    "Ne = ('Ne2', 1e2)\n",
    "\n",
    "#load empirical results datafrane\n",
    "qhw_rst = pd.read_csv(\"../data/conc_data_1qhw_Ne2_nsubs_5e2_0_500.csv\")\n",
    "data = pd.read_csv(\"../data/\" + protein + \"_paired_pinew_pires_0_500.csv\")\n",
    "PI_R = list(data[\"propensity\"]) + list(set(data[\"pi_initial\"]))\n",
    "\n",
    "# get empricial distributions\n",
    "vi  = list(qhw_rst[\"pi_initial\"])\n",
    "vr  = data[\"propensity\"]\n",
    "vrt = list(qhw_rst['res_time'])\n"
   ]
  },
  {
   "cell_type": "markdown",
   "metadata": {},
   "source": [
    "## Null model where pi_res, pi_initial are drawn from uniform\n",
    "\n",
    "1. For i in 1...1000\n",
    "    1. Select an element from uniform[0,1] at random. Call it Init_i. \n",
    "    2. Select an element of vrt at random. Call it T. \n",
    "    3. Select T elements from uniform[0,1] at random. Set Ave_i = mean of these elements\n",
    "    4. Calculate MAMI_i = Ave_i-Init_i\n",
    "    5. Calculate MSLR\n"
   ]
  },
  {
   "cell_type": "code",
   "execution_count": 3,
   "metadata": {},
   "outputs": [],
   "source": [
    "rndm_pi_res = np.random.uniform(0,1, (10000,500))\n",
    "windows     = np.random.choice(vrt, 10000)\n",
    "\n",
    "Init= []; Ave = []; M_AMI = []; M_SLR = []; pi_r = []\n",
    "for i in range(10000):\n",
    "    Init_i  = rndm_pi_res[i, 0]\n",
    "    T       = windows[i]\n",
    "    pi_r_i  = rndm_pi_res[i, 1:T+1]\n",
    "    Ave_i   = np.mean(pi_r_i)\n",
    "    M_AMI_i = Ave_i - Init_i\n",
    "    \n",
    "    X       = np.array([x for x in range(T)]).reshape(-1,1)\n",
    "    y       = np.array(pi_r_i).reshape(-1,1)\n",
    "    lm      = linear_model.LinearRegression()\n",
    "    model   = lm.fit(X,y)\n",
    "    M_SLR_i = lm.coef_[0][0]\n",
    "        \n",
    "    #append to lists \n",
    "    Init.append(Init_i)\n",
    "    pi_r.extend(list(pi_r_i))\n",
    "    Ave.append(Ave_i)\n",
    "    M_AMI.append(M_AMI_i)\n",
    "    M_SLR.append(M_SLR_i)\n",
    "    \n",
    "null_df = pd.DataFrame({\"M_AMI\":M_AMI, \"M_SLR\":M_SLR, \"AVG_pi\":Ave, \"pi_initial\":Init })\n",
    "null_df.to_csv(\"../data/null_model_uniform_distribution.csv\", index = False)\n",
    "\n",
    "np.save(\"../data/null_model_uniform_pi_new_and_pi_res_PI_RES.npy\", np.array(pi_r))"
   ]
  },
  {
   "cell_type": "markdown",
   "metadata": {},
   "source": [
    "## Null model where pi_res, pi_initial are drawn from normal\n",
    "\n",
    "1. For i in 1...1000\n",
    "    1. Select an element from normal[0, 0.1] at random. Call it Init_i. \n",
    "    2. Select an element of vrt at random. Call it T. \n",
    "    3. Select T elements from uniform[0, 0.1] at random. Set Ave_i = mean of these elements\n",
    "    4. Calculate MAMI_i = Ave_i-Init_i\n",
    "    5. Calculate MSLR"
   ]
  },
  {
   "cell_type": "code",
   "execution_count": 4,
   "metadata": {},
   "outputs": [],
   "source": [
    "rndm_pi_res = np.random.normal(0,0.1, (10000,500))\n",
    "windows     = np.random.choice(vrt, 10000)\n",
    "\n",
    "Init= []; Ave = []; M_AMI = []; M_SLR = []; pi_r = []\n",
    "for i in range(10000):\n",
    "    Init_i  = rndm_pi_res[i, 0]\n",
    "    T       = windows[i]\n",
    "    pi_r_i  = rndm_pi_res[i, 1:T+1]\n",
    "    Ave_i   = np.mean(pi_r_i)\n",
    "    M_AMI_i = Ave_i - Init_i\n",
    "    \n",
    "    X       = np.array([x for x in range(T)]).reshape(-1,1)\n",
    "    y       = np.array(pi_r_i).reshape(-1,1)\n",
    "    lm      = linear_model.LinearRegression()\n",
    "    model   = lm.fit(X,y)\n",
    "    M_SLR_i = lm.coef_[0][0]\n",
    "        \n",
    "    #append to lists \n",
    "    Init.append(Init_i)\n",
    "    pi_r.extend(list(pi_r_i))\n",
    "    Ave.append(Ave_i)\n",
    "    M_AMI.append(M_AMI_i)\n",
    "    M_SLR.append(M_SLR_i)\n",
    "    \n",
    "null_df = pd.DataFrame({\"M_AMI\":M_AMI, \"M_SLR\":M_SLR, \"AVG_pi\":Ave, \"pi_initial\":Init })\n",
    "null_df.to_csv(\"../data/null_model_normal_distribution.csv\", index = False)\n",
    "\n",
    "np.save(\"../data/null_model_normal_pi_new_and_pi_res_PI_RES.npy\", np.array(pi_r))"
   ]
  },
  {
   "cell_type": "markdown",
   "metadata": {},
   "source": [
    "## Null model where pi_res, pi_initial are sampled from empirical pi_res \n",
    "\n",
    "1. For i in 1...1000\n",
    "    1. Select an element from pi_res at random. Call it Init_i. \n",
    "    2. Select an element of vrt at random. Call it T. \n",
    "    3. Select T elements from pi_res at random. Set Ave_i = mean of these elements\n",
    "    4. Calculate MAMI_i = Ave_i-Init_i\n",
    "    5. Calculate MSLR\n"
   ]
  },
  {
   "cell_type": "code",
   "execution_count": 6,
   "metadata": {},
   "outputs": [],
   "source": [
    "rndm_pi_res = np.random.choice(PI_R, (10000,500))\n",
    "windows     = np.random.choice(vrt, 10000)\n",
    "\n",
    "Init= []; Ave = []; M_AMI = []; M_SLR = []; pi_r = []; pi_initial = []\n",
    "for i in range(10000):\n",
    "    Init_i  = rndm_pi_res[i, 0]\n",
    "    T       = windows[i]\n",
    "    pi_r_i  = rndm_pi_res[i, 1:T+1]\n",
    "    Ave_i   = np.mean(pi_r_i)\n",
    "    M_AMI_i = Ave_i - Init_i\n",
    "    \n",
    "    X       = np.array([x for x in range(T)]).reshape(-1,1)\n",
    "    y       = np.array(pi_r_i).reshape(-1,1)\n",
    "    lm      = linear_model.LinearRegression()\n",
    "    model   = lm.fit(X,y)\n",
    "    M_SLR_i = lm.coef_[0][0]\n",
    "        \n",
    "    #append to lists \n",
    "    Init.append(Init_i)\n",
    "    pi_initial.extend([Init_i]*len(pi_r_i))\n",
    "    pi_r.extend(list(pi_r_i))\n",
    "    Ave.append(Ave_i)\n",
    "    M_AMI.append(M_AMI_i)\n",
    "    M_SLR.append(M_SLR_i)\n",
    "    \n",
    "null_df = pd.DataFrame({\"M_AMI\":M_AMI, \"M_SLR\":M_SLR, \"AVG_pi\":Ave, \"pi_initial\":Init, \"res_time\": list(windows)})\n",
    "null_df.to_csv(\"../data/null_model_empirical_distribution.csv\", index = False)\n",
    "\n",
    "formated_data = pd.DataFrame({\"pi_initial\": pi_initial, \"pi_res\": pi_r})\n",
    "formated_data.to_csv(\"../data/null_model_empirical_pi_new_and_pi_res.csv\", index = False)\n",
    "\n",
    "np.save(\"../data/null_model_pi_new_and_pi_res_sampled_from_empirical_PI_RES.npy\", np.array(pi_r))"
   ]
  },
  {
   "cell_type": "code",
   "execution_count": null,
   "metadata": {},
   "outputs": [],
   "source": []
  }
 ],
 "metadata": {
  "kernelspec": {
   "display_name": "Python 3",
   "language": "python",
   "name": "python3"
  },
  "language_info": {
   "codemirror_mode": {
    "name": "ipython",
    "version": 3
   },
   "file_extension": ".py",
   "mimetype": "text/x-python",
   "name": "python",
   "nbconvert_exporter": "python",
   "pygments_lexer": "ipython3",
   "version": "3.7.4"
  }
 },
 "nbformat": 4,
 "nbformat_minor": 4
}
